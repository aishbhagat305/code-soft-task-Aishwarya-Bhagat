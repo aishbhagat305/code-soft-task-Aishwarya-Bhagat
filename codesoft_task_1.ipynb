{
  "cells": [
    {
      "cell_type": "markdown",
      "metadata": {
        "id": "view-in-github",
        "colab_type": "text"
      },
      "source": [
        "<a href=\"https://colab.research.google.com/github/aishbhagat305/code-soft-task-Aishwarya-Bhagat/blob/main/codesoft_task_1.ipynb\" target=\"_parent\"><img src=\"https://colab.research.google.com/assets/colab-badge.svg\" alt=\"Open In Colab\"/></a>"
      ]
    },
    {
      "cell_type": "code",
      "execution_count": null,
      "metadata": {
        "colab": {
          "base_uri": "https://localhost:8080/"
        },
        "id": "ufQKXpeSNgVu",
        "outputId": "ec6bcdc3-b461-426f-a019-b14afe935848"
      },
      "outputs": [
        {
          "metadata": {
            "tags": null
          },
          "name": "stdout",
          "output_type": "stream",
          "text": [
            "Chatbot: Hi! I am Aishwarya, your friendly chatbot. How can I assist you today?\n",
            "Chatbot: I'm good thank you, How are you? And How can I help you?\n",
            "Chatbot: I'm sorry, I don't understand. Can you please rephrase or ask another question?\n",
            "Chatbot: I don't have any formal qualification. I am a rule-based model.\n",
            "Chatbot: Goodbye! Have a great day!\n",
            "Chatbot: I'm sorry, I don't understand. Can you please rephrase or ask another question?\n"
          ]
        }
      ],
      "source": [
        "def chatbot_response(user_input):\n",
        "    user_input = user_input.lower()\n",
        "\n",
        "\n",
        "    if \"hello\" in user_input or \"hi\" in user_input:\n",
        "        return \"Hello! How can I assist you today?\"\n",
        "\n",
        "    elif \"how are you\" in user_input:\n",
        "        return \"I'm good thank you, How are you? And How can I help you?\"\n",
        "\n",
        "    elif \"what's your name?\" in user_input or \"who are you?\" in user_input:\n",
        "        return \"I am Aishwarya, your friendly rule-based chatbot.\"\n",
        "\n",
        "    elif \"bye\" in user_input or \"goodbye\" in user_input:\n",
        "        return \"Goodbye! Have a great day!\"\n",
        "\n",
        "    elif \"what is your qualification?\" in user_input or \"what is the highest degree you hold?\" in user_input:\n",
        "        return \"I don't have any formal qualification. I am a rule-based model.\"\n",
        "\n",
        "    else:\n",
        "        return \"I'm sorry, I don't understand. Can you please rephrase or ask another question?\"\n",
        "\n",
        "\n",
        "def main():\n",
        "    print(\"Chatbot: Hi! I am Aishwarya, your friendly chatbot. How can I assist you today?\")\n",
        "\n",
        "    while True:\n",
        "        user_input = input(\"You: \")\n",
        "        if user_input.lower() == 'exit':\n",
        "            print(\"Chatbot: Goodbye! Have a great day!\")\n",
        "            break\n",
        "        else:\n",
        "            response = chatbot_response(user_input)\n",
        "            print(\"Chatbot:\", response)\n",
        "\n",
        "if __name__ == \"__main__\":\n",
        "    main()"
      ]
    }
  ],
  "metadata": {
    "colab": {
      "provenance": [],
      "authorship_tag": "ABX9TyMPPww//2ZFYMuK8JllI4T9",
      "include_colab_link": true
    },
    "kernelspec": {
      "display_name": "Python 3",
      "name": "python3"
    },
    "language_info": {
      "name": "python"
    }
  },
  "nbformat": 4,
  "nbformat_minor": 0
}